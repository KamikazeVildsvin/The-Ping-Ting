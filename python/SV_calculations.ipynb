{
 "cells": [
  {
   "cell_type": "markdown",
   "id": "f7b45d2e-de9c-4c5b-a640-9f64498b03c1",
   "metadata": {},
   "source": [
    "# State-Variable Filter Calculations"
   ]
  },
  {
   "cell_type": "markdown",
   "id": "82603608-9060-4e82-9338-0b68a06f92c4",
   "metadata": {},
   "source": [
    "This notebook is used to calculate the resistor and capacitor values for the state-variable filter, to be used in \"The Ping Ting\""
   ]
  },
  {
   "cell_type": "code",
   "execution_count": 1,
   "id": "36bb0002-d13a-447c-833e-0dcb9cb4c800",
   "metadata": {},
   "outputs": [],
   "source": [
    "import scipy as sp\n",
    "import numpy as np\n",
    "from sympy import *\n",
    "from RC_functions import *"
   ]
  },
  {
   "cell_type": "code",
   "execution_count": 2,
   "id": "26c11b93-fb49-42a3-be9f-c94741511878",
   "metadata": {},
   "outputs": [
    {
     "data": {
      "text/latex": [
       "$\\displaystyle f_{cLow} = 43.8443369399161$"
      ],
      "text/plain": [
       "Eq(f_cLow, 43.8443369399161)"
      ]
     },
     "metadata": {},
     "output_type": "display_data"
    },
    {
     "data": {
      "text/latex": [
       "$\\displaystyle f_{cHigh} = 482.287706339077$"
      ],
      "text/plain": [
       "Eq(f_cHigh, 482.287706339077)"
      ]
     },
     "metadata": {},
     "output_type": "display_data"
    }
   ],
   "source": [
    "# calculate cutoff frequency range\n",
    "f_cLow, f_cHigh = symbols('f_cLow, f_cHigh');\n",
    "r_pot = 100e3;\n",
    "r_high = 10e3;\n",
    "r_low = r_pot + r_high;\n",
    "c = 33e-9;\n",
    "Q = 100;\n",
    "\n",
    "display(Eq(f_cLow, cutoff(r_low, c)));\n",
    "display(Eq(f_cHigh, cutoff(r_high, c)));"
   ]
  },
  {
   "cell_type": "code",
   "execution_count": 3,
   "id": "21e2f126-a394-456f-94ba-87b4178601fe",
   "metadata": {},
   "outputs": [
    {
     "data": {
      "text/plain": [
       "'Resistor value for a Q factor of 100: 100.0'"
      ]
     },
     "metadata": {},
     "output_type": "display_data"
    }
   ],
   "source": [
    "display('Resistor value for a Q factor of ' + str(Q) + ': ' + str(10e3/Q))"
   ]
  },
  {
   "cell_type": "code",
   "execution_count": 4,
   "id": "e9acd889-2d3f-4940-9cdf-a285c6a9905e",
   "metadata": {},
   "outputs": [
    {
     "data": {
      "text/plain": [
       "'damping factor 0.005'"
      ]
     },
     "metadata": {},
     "output_type": "display_data"
    }
   ],
   "source": [
    "zeta = 1/(2*Q);\n",
    "display('damping factor ' + str(zeta));"
   ]
  },
  {
   "cell_type": "code",
   "execution_count": 8,
   "id": "835e7f67-0d42-4035-a195-c858a232d1c7",
   "metadata": {},
   "outputs": [
    {
     "data": {
      "text/latex": [
       "$\\displaystyle T_{s} = 2.1749016306002$"
      ],
      "text/plain": [
       "Eq(T_s, 2.1749016306002)"
      ]
     },
     "metadata": {},
     "output_type": "display_data"
    }
   ],
   "source": [
    "T_s = symbols('T_s');\n",
    "display(Eq(T_s, -np.log(0.05)/(zeta*naturalFrequency(r_low, c))));"
   ]
  },
  {
   "cell_type": "code",
   "execution_count": null,
   "id": "41e2931c-9df0-47fc-ac08-c609cc62b3e5",
   "metadata": {},
   "outputs": [],
   "source": []
  }
 ],
 "metadata": {
  "kernelspec": {
   "display_name": "Python 3",
   "language": "python",
   "name": "python3"
  },
  "language_info": {
   "codemirror_mode": {
    "name": "ipython",
    "version": 3
   },
   "file_extension": ".py",
   "mimetype": "text/x-python",
   "name": "python",
   "nbconvert_exporter": "python",
   "pygments_lexer": "ipython3",
   "version": "3.8.8"
  }
 },
 "nbformat": 4,
 "nbformat_minor": 5
}
